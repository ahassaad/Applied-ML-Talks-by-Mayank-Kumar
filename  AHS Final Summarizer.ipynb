{
 "cells": [
  {
   "cell_type": "markdown",
   "metadata": {},
   "source": [
    "<h1 align=\"center\">Topic: Building a Text Summarizer</h1>"
   ]
  },
  {
   "cell_type": "markdown",
   "metadata": {},
   "source": [
    "<h2>Importing required libraries</h2>"
   ]
  },
  {
   "cell_type": "code",
   "execution_count": 1,
   "metadata": {},
   "outputs": [
    {
     "data": {
      "text/plain": [
       "<spacy.pipeline.sentencizer.Sentencizer at 0x150d1592cc0>"
      ]
     },
     "execution_count": 1,
     "metadata": {},
     "output_type": "execute_result"
    }
   ],
   "source": [
    "from sklearn.feature_extraction.text import TfidfVectorizer\n",
    "from spacy.lang.en import English\n",
    "import numpy as np\n",
    "\n",
    "nlp = English()\n",
    "#nlp.add_pipe(nlp.create_pipe,'sentencizer') changed in ver 3.0\n",
    "nlp.add_pipe(\"sentencizer\")"
   ]
  },
  {
   "cell_type": "markdown",
   "metadata": {},
   "source": [
    "<h2>INPUT TEXT</h2>"
   ]
  },
  {
   "cell_type": "code",
   "execution_count": 2,
   "metadata": {},
   "outputs": [],
   "source": [
    "text_corpus = \"\"\"\n",
    "\n",
    "\n",
    "For road bridges the code is applicable to bridges with individual spans ranging from 5 m to 200 m & with the carriageway widths not greater than 42 m. There were 4 models for determining the main vertical loads from traffic representing the different types of traffic & different design situations. There were rules for determining the secondary live loads such as those due to acceleration & braking & centrifugal effects, the requirements for accidental loading cover collision with bridge supports & the effect of errant vehicles on areas of footways & cycle tracks. Load Model 1 These was the main traffic loading system & consisted of concentrated & uniformly distributed loads to cover the global & local effects of normal traffic. The concentrated load model known as the Tandem Axle System consisted of a pair of axles with 4 identical wheels having a square contact area of 0.4 m x 0.4 m. For span greater than 10 m the pair of axles can be replaced by a single of the same total weight. The UDL System has a constant value irrespective of the span length although there were different values for the individual traffic lanes. The distributed load was to be applied to the unfavourable parts of the influence surface. These can be multiplied by adjustment factors to allow for site specific situation but in most cases the factors are to be taken as unity. The load model 1 are shown in figure below & the basic values of the tandem axle system & the UDL system which include dynamic amplification are shown in table below for the different notional lanes. The development of an equivalent loading model so called ‘formula loading’ has to take account the vehicle load effects of both bending moments & shears. As far as the structure is concerned it is the load effects (i.e bending moments & shears) on individual structural members that are important rather than the total weight carried by the structure or member. Equivalent loading model adopted UDL + KEL to represent the vehicle effects for both bending moments & shears. Derivation of Load Model 1 & 2 The traffic data from a number of European countries were analysed. The data contained useful information about axle weights, axle spacing, distance between vehicles & the length of vehicles, on the inside or slow lanes. The durations of various data collection ranged from a few hours to 800 hrs. It was found that the traffic parameters from the different countries were not very different when comparing the daily values of axles & vehicle weights. However it was decided to use a set data recorded on the A6 motorway near city of Auxerre in France as it was felt that traffic data would give a good representation of European traffic as a whole. Methodology The procedure for the development of the main load model LM1 consisted of the following: Determination of target values of various traffic load effects which were to be reproduced by the design load models. The load effects were to be extrapolated to correspond to a probability of exceedance in 50 years or return period of 1000 years. To find & define the load model which was the best to reproduce the target values for loaded lengths from 5 m to 200 m. The target values were determined based on the traffic data recorded at Auxerre took into account different extrapolation methods, traffic compositions, different influence lines for various load effects & the dynamic effects from flowing  traffic. The total weights of the vehicles generated were interpolated to certain return periods using Gaussian, Poisson or extremal distributions. The dynamic behaviour of the vehicles & bridges was examined based on assumed roughness values for the carriageway surface. These dynamic functions were combined statically with the static effects  & were used to generate the target values for calibrating the proposed load models. The aim of the calibration was to develop a loading model which would allow for dynamic magnification effects, different traffic patterns, scenario of free flowing & congested traffic, would cover both global & local effects. Based on the studies, the final version of LM1 is shown below; The basic values of the concentrated & distributed loads may be modified by adjustment factors which allow reduced loading to be adopted in specific situations. Load Model 2 Calculation showed that the tandem-axle system in LM1 did not adequately cover all the local effects for all vehicles in particular those on orthotropic slabs. Therefore for local effects Load Model 2 (LM2) was introduced, consisting of a single axle with a total load of 400 kN including dynamic effects which can be applied to certain areas as shown in below; Load Model 3 These load model consisted of sets of axle loads at given spacings to represent special vehicles (SV-abnormal vehicles) carrying heavy loads on designated abnormal load routes. The weights of listed SVs range from 600 to 3600 kN with from 4 axles to 18 axles & with axle loads of 150, 200 or 240 kN depending on the class of the vehicle concerned. These model was intended to be used only as requested by the client & suitable for both global & local effects. The SVs were assumed to moved at very low speeds & therefore contained no allowance for dynamic effects. The selected SVs were applied to either 1 or 2 adjacent lanes depending on the weight & dimension of the vehicle concerned. Each notional lane & any remaining area was to be loaded by the main loading system as well but using frequent rather than characteristic values for the intensities of the concentrated & distributed loads. On the lanes actually occupied by the SV, the main loading system was not applied for a distance of 25 m in front of & behind the SV. Load Model 4 These represent crowd loading & consists of a UDL of 5 kN/m2 & only to be applied when requested by the client.\n",
    "\n",
    "\n",
    "\n",
    "\"\"\""
   ]
  },
  {
   "cell_type": "markdown",
   "metadata": {},
   "source": [
    "<h2>Final Summary</h2>"
   ]
  },
  {
   "cell_type": "code",
   "execution_count": 3,
   "metadata": {},
   "outputs": [
    {
     "name": "stdout",
     "output_type": "stream",
     "text": [
      "Senetence are: \n",
      " ['For road bridges the code is applicable to bridges with individual spans ranging from 5 m to 200 m & with the carriageway widths not greater than 42 m. There were 4 models for determining the main vertical loads from traffic representing the different types of traffic & different design situations.', 'There were rules for determining the secondary live loads such as those due to acceleration & braking & centrifugal effects, the requirements for accidental loading cover collision with bridge supports & the effect of errant vehicles on areas of footways & cycle tracks.', 'Load Model 1 These was the main traffic loading system & consisted of concentrated & uniformly distributed loads to cover the global & local effects of normal traffic.', 'The concentrated load model known as the Tandem Axle System consisted of a pair of axles with 4 identical wheels having a square contact area of 0.4 m x 0.4 m. For span greater than 10 m the pair of axles can be replaced by a single of the same total weight.', 'The UDL System has a constant value irrespective of the span length although there were different values for the individual traffic lanes.', 'The distributed load was to be applied to the unfavourable parts of the influence surface.', 'These can be multiplied by adjustment factors to allow for site specific situation but in most cases the factors are to be taken as unity.', 'The load model 1 are shown in figure below & the basic values of the tandem axle system & the UDL system which include dynamic amplification are shown in table below for the different notional lanes.', 'The development of an equivalent loading model so called ‘formula loading’ has to take account the vehicle load effects of both bending moments & shears.', 'As far as the structure is concerned it is the load effects (i.e bending moments & shears) on individual structural members that are important rather than the total weight carried by the structure or member.', 'Equivalent loading model adopted UDL + KEL to represent the vehicle effects for both bending moments & shears.', 'Derivation of Load Model 1 & 2 The traffic data from a number of European countries were analysed.', 'The data contained useful information about axle weights, axle spacing, distance between vehicles & the length of vehicles, on the inside or slow lanes.', 'The durations of various data collection ranged from a few hours to 800 hrs.', 'It was found that the traffic parameters from the different countries were not very different when comparing the daily values of axles & vehicle weights.', 'However it was decided to use a set data recorded on the A6 motorway near city of Auxerre in France as it was felt that traffic data would give a good representation of European traffic as a whole.', 'Methodology The procedure for the development of the main load model LM1 consisted of the following: Determination of target values of various traffic load effects which were to be reproduced by the design load models.', 'The load effects were to be extrapolated to correspond to a probability of exceedance in 50 years or return period of 1000 years.', 'To find & define the load model which was the best to reproduce the target values for loaded lengths from 5 m to 200 m. The target values were determined based on the traffic data recorded at Auxerre took into account different extrapolation methods, traffic compositions, different influence lines for various load effects & the dynamic effects from flowing  traffic.', 'The total weights of the vehicles generated were interpolated to certain return periods using Gaussian, Poisson or extremal distributions.', 'The dynamic behaviour of the vehicles & bridges was examined based on assumed roughness values for the carriageway surface.', 'These dynamic functions were combined statically with the static effects  & were used to generate the target values for calibrating the proposed load models.', 'The aim of the calibration was to develop a loading model which would allow for dynamic magnification effects, different traffic patterns, scenario of free flowing & congested traffic, would cover both global & local effects.', 'Based on the studies, the final version of LM1 is shown below; The basic values of the concentrated & distributed loads may be modified by adjustment factors which allow reduced loading to be adopted in specific situations.', 'Load Model 2 Calculation showed that the tandem-axle system in LM1 did not adequately cover all the local effects for all vehicles in particular those on orthotropic slabs.', 'Therefore for local effects Load Model 2 (LM2) was introduced, consisting of a single axle with a total load of 400 kN including dynamic effects which can be applied to certain areas as shown in below; Load Model 3 These load model consisted of sets of axle loads at given spacings to represent special vehicles (SV-abnormal vehicles) carrying heavy loads on designated abnormal load routes.', 'The weights of listed SVs range from 600 to 3600 kN with from 4 axles to 18 axles & with axle loads of 150, 200 or 240 kN depending on the class of the vehicle concerned.', 'These model was intended to be used only as requested by the client & suitable for both global & local effects.', 'The SVs were assumed to moved at very low speeds & therefore contained no allowance for dynamic effects.', 'The selected SVs were applied to either 1 or 2 adjacent lanes depending on the weight & dimension of the vehicle concerned.', 'Each notional lane & any remaining area was to be loaded by the main loading system as well but using frequent rather than characteristic values for the intensities of the concentrated & distributed loads.', 'On the lanes actually occupied by the SV, the main loading system was not applied for a distance of 25 m in front of & behind the SV.', 'Load Model 4 These represent crowd loading & consists of a UDL of 5 kN/m2 & only to be applied when requested by the client.']\n",
      "Our sentence organizer: \n",
      " {'For road bridges the code is applicable to bridges with individual spans ranging from 5 m to 200 m & with the carriageway widths not greater than 42 m. There were 4 models for determining the main vertical loads from traffic representing the different types of traffic & different design situations.': 0, 'There were rules for determining the secondary live loads such as those due to acceleration & braking & centrifugal effects, the requirements for accidental loading cover collision with bridge supports & the effect of errant vehicles on areas of footways & cycle tracks.': 1, 'Load Model 1 These was the main traffic loading system & consisted of concentrated & uniformly distributed loads to cover the global & local effects of normal traffic.': 2, 'The concentrated load model known as the Tandem Axle System consisted of a pair of axles with 4 identical wheels having a square contact area of 0.4 m x 0.4 m. For span greater than 10 m the pair of axles can be replaced by a single of the same total weight.': 3, 'The UDL System has a constant value irrespective of the span length although there were different values for the individual traffic lanes.': 4, 'The distributed load was to be applied to the unfavourable parts of the influence surface.': 5, 'These can be multiplied by adjustment factors to allow for site specific situation but in most cases the factors are to be taken as unity.': 6, 'The load model 1 are shown in figure below & the basic values of the tandem axle system & the UDL system which include dynamic amplification are shown in table below for the different notional lanes.': 7, 'The development of an equivalent loading model so called ‘formula loading’ has to take account the vehicle load effects of both bending moments & shears.': 8, 'As far as the structure is concerned it is the load effects (i.e bending moments & shears) on individual structural members that are important rather than the total weight carried by the structure or member.': 9, 'Equivalent loading model adopted UDL + KEL to represent the vehicle effects for both bending moments & shears.': 10, 'Derivation of Load Model 1 & 2 The traffic data from a number of European countries were analysed.': 11, 'The data contained useful information about axle weights, axle spacing, distance between vehicles & the length of vehicles, on the inside or slow lanes.': 12, 'The durations of various data collection ranged from a few hours to 800 hrs.': 13, 'It was found that the traffic parameters from the different countries were not very different when comparing the daily values of axles & vehicle weights.': 14, 'However it was decided to use a set data recorded on the A6 motorway near city of Auxerre in France as it was felt that traffic data would give a good representation of European traffic as a whole.': 15, 'Methodology The procedure for the development of the main load model LM1 consisted of the following: Determination of target values of various traffic load effects which were to be reproduced by the design load models.': 16, 'The load effects were to be extrapolated to correspond to a probability of exceedance in 50 years or return period of 1000 years.': 17, 'To find & define the load model which was the best to reproduce the target values for loaded lengths from 5 m to 200 m. The target values were determined based on the traffic data recorded at Auxerre took into account different extrapolation methods, traffic compositions, different influence lines for various load effects & the dynamic effects from flowing  traffic.': 18, 'The total weights of the vehicles generated were interpolated to certain return periods using Gaussian, Poisson or extremal distributions.': 19, 'The dynamic behaviour of the vehicles & bridges was examined based on assumed roughness values for the carriageway surface.': 20, 'These dynamic functions were combined statically with the static effects  & were used to generate the target values for calibrating the proposed load models.': 21, 'The aim of the calibration was to develop a loading model which would allow for dynamic magnification effects, different traffic patterns, scenario of free flowing & congested traffic, would cover both global & local effects.': 22, 'Based on the studies, the final version of LM1 is shown below; The basic values of the concentrated & distributed loads may be modified by adjustment factors which allow reduced loading to be adopted in specific situations.': 23, 'Load Model 2 Calculation showed that the tandem-axle system in LM1 did not adequately cover all the local effects for all vehicles in particular those on orthotropic slabs.': 24, 'Therefore for local effects Load Model 2 (LM2) was introduced, consisting of a single axle with a total load of 400 kN including dynamic effects which can be applied to certain areas as shown in below; Load Model 3 These load model consisted of sets of axle loads at given spacings to represent special vehicles (SV-abnormal vehicles) carrying heavy loads on designated abnormal load routes.': 25, 'The weights of listed SVs range from 600 to 3600 kN with from 4 axles to 18 axles & with axle loads of 150, 200 or 240 kN depending on the class of the vehicle concerned.': 26, 'These model was intended to be used only as requested by the client & suitable for both global & local effects.': 27, 'The SVs were assumed to moved at very low speeds & therefore contained no allowance for dynamic effects.': 28, 'The selected SVs were applied to either 1 or 2 adjacent lanes depending on the weight & dimension of the vehicle concerned.': 29, 'Each notional lane & any remaining area was to be loaded by the main loading system as well but using frequent rather than characteristic values for the intensities of the concentrated & distributed loads.': 30, 'On the lanes actually occupied by the SV, the main loading system was not applied for a distance of 25 m in front of & behind the SV.': 31, 'Load Model 4 These represent crowd loading & consists of a UDL of 5 kN/m2 & only to be applied when requested by the client.': 32}\n",
      "True\n",
      "Our top_n_sentence with their index: \n",
      "\n",
      "('To find & define the load model which was the best to reproduce the target values for loaded lengths from 5 m to 200 m. The target values were determined based on the traffic data recorded at Auxerre took into account different extrapolation methods, traffic compositions, different influence lines for various load effects & the dynamic effects from flowing  traffic.', 18)\n",
      "('Therefore for local effects Load Model 2 (LM2) was introduced, consisting of a single axle with a total load of 400 kN including dynamic effects which can be applied to certain areas as shown in below; Load Model 3 These load model consisted of sets of axle loads at given spacings to represent special vehicles (SV-abnormal vehicles) carrying heavy loads on designated abnormal load routes.', 25)\n",
      "('Load Model 1 These was the main traffic loading system & consisted of concentrated & uniformly distributed loads to cover the global & local effects of normal traffic.', 2)\n",
      "('Based on the studies, the final version of LM1 is shown below; The basic values of the concentrated & distributed loads may be modified by adjustment factors which allow reduced loading to be adopted in specific situations.', 23)\n",
      "('For road bridges the code is applicable to bridges with individual spans ranging from 5 m to 200 m & with the carriageway widths not greater than 42 m. There were 4 models for determining the main vertical loads from traffic representing the different types of traffic & different design situations.', 0)\n",
      "('The development of an equivalent loading model so called ‘formula loading’ has to take account the vehicle load effects of both bending moments & shears.', 8)\n",
      "('Equivalent loading model adopted UDL + KEL to represent the vehicle effects for both bending moments & shears.', 10)\n",
      "('The load model 1 are shown in figure below & the basic values of the tandem axle system & the UDL system which include dynamic amplification are shown in table below for the different notional lanes.', 7)\n",
      "('The aim of the calibration was to develop a loading model which would allow for dynamic magnification effects, different traffic patterns, scenario of free flowing & congested traffic, would cover both global & local effects.', 22)\n",
      "('Methodology The procedure for the development of the main load model LM1 consisted of the following: Determination of target values of various traffic load effects which were to be reproduced by the design load models.', 16)\n",
      "('The concentrated load model known as the Tandem Axle System consisted of a pair of axles with 4 identical wheels having a square contact area of 0.4 m x 0.4 m. For span greater than 10 m the pair of axles can be replaced by a single of the same total weight.', 3)\n",
      "('Load Model 2 Calculation showed that the tandem-axle system in LM1 did not adequately cover all the local effects for all vehicles in particular those on orthotropic slabs.', 24)\n",
      "('Each notional lane & any remaining area was to be loaded by the main loading system as well but using frequent rather than characteristic values for the intensities of the concentrated & distributed loads.', 30)\n",
      "('As far as the structure is concerned it is the load effects (i.e bending moments & shears) on individual structural members that are important rather than the total weight carried by the structure or member.', 9)\n",
      "('Derivation of Load Model 1 & 2 The traffic data from a number of European countries were analysed.', 11)\n",
      "Summary: \n",
      " For road bridges the code is applicable to bridges with individual spans ranging from 5 m to 200 m & with the carriageway widths not greater than 42 m. There were 4 models for determining the main vertical loads from traffic representing the different types of traffic & different design situations. Load Model 1 These was the main traffic loading system & consisted of concentrated & uniformly distributed loads to cover the global & local effects of normal traffic. The concentrated load model known as the Tandem Axle System consisted of a pair of axles with 4 identical wheels having a square contact area of 0.4 m x 0.4 m. For span greater than 10 m the pair of axles can be replaced by a single of the same total weight. The load model 1 are shown in figure below & the basic values of the tandem axle system & the UDL system which include dynamic amplification are shown in table below for the different notional lanes. The development of an equivalent loading model so called ‘formula loading’ has to take account the vehicle load effects of both bending moments & shears. As far as the structure is concerned it is the load effects (i.e bending moments & shears) on individual structural members that are important rather than the total weight carried by the structure or member. Equivalent loading model adopted UDL + KEL to represent the vehicle effects for both bending moments & shears. Derivation of Load Model 1 & 2 The traffic data from a number of European countries were analysed. Methodology The procedure for the development of the main load model LM1 consisted of the following: Determination of target values of various traffic load effects which were to be reproduced by the design load models. To find & define the load model which was the best to reproduce the target values for loaded lengths from 5 m to 200 m. The target values were determined based on the traffic data recorded at Auxerre took into account different extrapolation methods, traffic compositions, different influence lines for various load effects & the dynamic effects from flowing  traffic. The aim of the calibration was to develop a loading model which would allow for dynamic magnification effects, different traffic patterns, scenario of free flowing & congested traffic, would cover both global & local effects. Based on the studies, the final version of LM1 is shown below; The basic values of the concentrated & distributed loads may be modified by adjustment factors which allow reduced loading to be adopted in specific situations. Load Model 2 Calculation showed that the tandem-axle system in LM1 did not adequately cover all the local effects for all vehicles in particular those on orthotropic slabs. Therefore for local effects Load Model 2 (LM2) was introduced, consisting of a single axle with a total load of 400 kN including dynamic effects which can be applied to certain areas as shown in below; Load Model 3 These load model consisted of sets of axle loads at given spacings to represent special vehicles (SV-abnormal vehicles) carrying heavy loads on designated abnormal load routes. Each notional lane & any remaining area was to be loaded by the main loading system as well but using frequent rather than characteristic values for the intensities of the concentrated & distributed loads.\n"
     ]
    }
   ],
   "source": [
    "doc = nlp(text_corpus.replace(\"\\n\", \"\"))\n",
    "#sentences = [sent.string.strip() for sent in doc.sents] #old string changed to text\n",
    "sentences = [sent.text.strip() for sent in doc.sents]\n",
    "\n",
    "print(\"Senetence are: \\n\", sentences)\n",
    "\n",
    "# Let's create an organizer which will store the sentence ordering to later reorganize the \n",
    "# scored sentences in their correct order\n",
    "sentence_organizer = {k:v for v,k in enumerate(sentences)}\n",
    "\n",
    "print(\"Our sentence organizer: \\n\", sentence_organizer)\n",
    "\n",
    "# Let's now create a tf-idf (Term frequnecy Inverse Document Frequency) model\n",
    "tf_idf_vectorizer = TfidfVectorizer(min_df=2,  max_features=None, \n",
    "                                    strip_accents='unicode', \n",
    "                                    analyzer='word',\n",
    "                                    token_pattern=r'\\w{1,}',\n",
    "                                    ngram_range=(1, 3), \n",
    "                                    use_idf=1,smooth_idf=1,\n",
    "                                    sublinear_tf=1,\n",
    "                                    stop_words = 'english')\n",
    "\n",
    "# Passing our sentences treating each as one document to TF-IDF vectorizer\n",
    "tf_idf_vectorizer.fit(sentences)\n",
    "\n",
    "# Transforming our sentences to TF-IDF vectors\n",
    "sentence_vectors = tf_idf_vectorizer.transform(sentences)\n",
    "\n",
    "# Getting sentence scores for each sentences\n",
    "sentence_scores = np.array(sentence_vectors.sum(axis=1)).ravel()\n",
    "\n",
    "# Sanity checkup\n",
    "print(len(sentences) == len(sentence_scores))\n",
    "\n",
    "# Getting top-n sentences\n",
    "N = 15\n",
    "top_n_sentences = [sentences[ind] for ind in np.argsort(sentence_scores, axis=0)[::-1][:N]]\n",
    "\n",
    "# Let's now do the sentence ordering using our prebaked sentence_organizer\n",
    "# Let's map the scored sentences with their indexes\n",
    "mapped_top_n_sentences = [(sentence,sentence_organizer[sentence]) for sentence in top_n_sentences]\n",
    "print(\"Our top_n_sentence with their index: \\n\")\n",
    "for element in mapped_top_n_sentences:\n",
    "    print(element)\n",
    "\n",
    "# Ordering our top-n sentences in their original ordering\n",
    "mapped_top_n_sentences = sorted(mapped_top_n_sentences, key = lambda x: x[1])\n",
    "ordered_scored_sentences = [element[0] for element in mapped_top_n_sentences]\n",
    "\n",
    "# Our final summary\n",
    "summary = \" \".join(ordered_scored_sentences)\n",
    "\n",
    "print(\"Summary: \\n\", summary)"
   ]
  },
  {
   "cell_type": "code",
   "execution_count": null,
   "metadata": {},
   "outputs": [],
   "source": []
  }
 ],
 "metadata": {
  "kernelspec": {
   "display_name": "Python 3 (ipykernel)",
   "language": "python",
   "name": "python3"
  },
  "language_info": {
   "codemirror_mode": {
    "name": "ipython",
    "version": 3
   },
   "file_extension": ".py",
   "mimetype": "text/x-python",
   "name": "python",
   "nbconvert_exporter": "python",
   "pygments_lexer": "ipython3",
   "version": "3.8.3"
  }
 },
 "nbformat": 4,
 "nbformat_minor": 2
}
